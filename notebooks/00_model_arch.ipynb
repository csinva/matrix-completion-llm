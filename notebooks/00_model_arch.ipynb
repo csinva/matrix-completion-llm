{
 "cells": [
  {
   "cell_type": "code",
   "execution_count": null,
   "metadata": {},
   "outputs": [],
   "source": [
    "%load_ext autoreload\n",
    "%autoreload 2\n",
    "import transformers\n",
    "import torch\n",
    "import math\n",
    "import torch.nn as nn\n",
    "import numpy as np\n",
    "import torch.nn.functional as F\n",
    "from mcllm.model.llm import *\n",
    "from tqdm import tqdm\n",
    "import torch.utils.data as data\n",
    "from mcllm.data.synthetic import LowRankDataset"
   ]
  },
  {
   "cell_type": "code",
   "execution_count": null,
   "metadata": {},
   "outputs": [],
   "source": [
    "# # single prediction\n",
    "# seq_len = 100\n",
    "# batch_size = 1\n",
    "# x = torch.Tensor(np.zeros((batch_size, seq_len)))\n",
    "\n",
    "# llm = NanoBERT(dropout=0, n_embed=10)  # max_seq_len=seq_len)\n",
    "\n",
    "# out = llm(x)\n",
    "# print('shapes', x.shape, out.shape)"
   ]
  }
 ],
 "metadata": {
  "kernelspec": {
   "display_name": ".venv",
   "language": "python",
   "name": "python3"
  },
  "language_info": {
   "codemirror_mode": {
    "name": "ipython",
    "version": 3
   },
   "file_extension": ".py",
   "mimetype": "text/x-python",
   "name": "python",
   "nbconvert_exporter": "python",
   "pygments_lexer": "ipython3",
   "version": "3.11.5"
  }
 },
 "nbformat": 4,
 "nbformat_minor": 2
}
