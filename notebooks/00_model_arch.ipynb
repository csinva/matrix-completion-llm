{
 "cells": [
  {
   "cell_type": "code",
   "execution_count": 88,
   "metadata": {},
   "outputs": [
    {
     "name": "stdout",
     "output_type": "stream",
     "text": [
      "The autoreload extension is already loaded. To reload it, use:\n",
      "  %reload_ext autoreload\n"
     ]
    }
   ],
   "source": [
    "%load_ext autoreload\n",
    "%autoreload 2\n",
    "import transformers\n",
    "import torch\n",
    "import math\n",
    "import torch.nn as nn\n",
    "import numpy as np\n",
    "import torch.nn.functional as F\n",
    "from mcllm.model.llm import *\n",
    "from tqdm import tqdm\n",
    "import torch.utils.data as data\n",
    "from mcllm.data.synthetic import LowRankDataset"
   ]
  },
  {
   "cell_type": "code",
   "execution_count": 89,
   "metadata": {},
   "outputs": [
    {
     "ename": "TypeError",
     "evalue": "NanoBERT.forward() missing 1 required positional argument: 'nan_mask'",
     "output_type": "error",
     "traceback": [
      "\u001b[0;31m---------------------------------------------------------------------------\u001b[0m",
      "\u001b[0;31mTypeError\u001b[0m                                 Traceback (most recent call last)",
      "\u001b[1;32m/home/chansingh/matrix-completion-llm/notebooks/00_model_arch.ipynb Cell 2\u001b[0m line \u001b[0;36m8\n\u001b[1;32m      <a href='vscode-notebook-cell://ssh-remote%2Bgcrsandbox387.redmond.corp.microsoft.com/home/chansingh/matrix-completion-llm/notebooks/00_model_arch.ipynb#X24sdnNjb2RlLXJlbW90ZQ%3D%3D?line=3'>4</a>\u001b[0m x \u001b[39m=\u001b[39m torch\u001b[39m.\u001b[39mTensor(np\u001b[39m.\u001b[39mzeros((batch_size, seq_len)))\n\u001b[1;32m      <a href='vscode-notebook-cell://ssh-remote%2Bgcrsandbox387.redmond.corp.microsoft.com/home/chansingh/matrix-completion-llm/notebooks/00_model_arch.ipynb#X24sdnNjb2RlLXJlbW90ZQ%3D%3D?line=5'>6</a>\u001b[0m llm \u001b[39m=\u001b[39m NanoBERT(dropout\u001b[39m=\u001b[39m\u001b[39m0\u001b[39m, n_embed\u001b[39m=\u001b[39m\u001b[39m10\u001b[39m)  \u001b[39m# max_seq_len=seq_len)\u001b[39;00m\n\u001b[0;32m----> <a href='vscode-notebook-cell://ssh-remote%2Bgcrsandbox387.redmond.corp.microsoft.com/home/chansingh/matrix-completion-llm/notebooks/00_model_arch.ipynb#X24sdnNjb2RlLXJlbW90ZQ%3D%3D?line=7'>8</a>\u001b[0m out \u001b[39m=\u001b[39m llm(x)\n\u001b[1;32m      <a href='vscode-notebook-cell://ssh-remote%2Bgcrsandbox387.redmond.corp.microsoft.com/home/chansingh/matrix-completion-llm/notebooks/00_model_arch.ipynb#X24sdnNjb2RlLXJlbW90ZQ%3D%3D?line=8'>9</a>\u001b[0m \u001b[39mprint\u001b[39m(\u001b[39m'\u001b[39m\u001b[39mshapes\u001b[39m\u001b[39m'\u001b[39m, x\u001b[39m.\u001b[39mshape, out\u001b[39m.\u001b[39mshape)\n",
      "File \u001b[0;32m~/imodelsx/.venv/lib/python3.11/site-packages/torch/nn/modules/module.py:1501\u001b[0m, in \u001b[0;36mModule._call_impl\u001b[0;34m(self, *args, **kwargs)\u001b[0m\n\u001b[1;32m   1496\u001b[0m \u001b[39m# If we don't have any hooks, we want to skip the rest of the logic in\u001b[39;00m\n\u001b[1;32m   1497\u001b[0m \u001b[39m# this function, and just call forward.\u001b[39;00m\n\u001b[1;32m   1498\u001b[0m \u001b[39mif\u001b[39;00m \u001b[39mnot\u001b[39;00m (\u001b[39mself\u001b[39m\u001b[39m.\u001b[39m_backward_hooks \u001b[39mor\u001b[39;00m \u001b[39mself\u001b[39m\u001b[39m.\u001b[39m_backward_pre_hooks \u001b[39mor\u001b[39;00m \u001b[39mself\u001b[39m\u001b[39m.\u001b[39m_forward_hooks \u001b[39mor\u001b[39;00m \u001b[39mself\u001b[39m\u001b[39m.\u001b[39m_forward_pre_hooks\n\u001b[1;32m   1499\u001b[0m         \u001b[39mor\u001b[39;00m _global_backward_pre_hooks \u001b[39mor\u001b[39;00m _global_backward_hooks\n\u001b[1;32m   1500\u001b[0m         \u001b[39mor\u001b[39;00m _global_forward_hooks \u001b[39mor\u001b[39;00m _global_forward_pre_hooks):\n\u001b[0;32m-> 1501\u001b[0m     \u001b[39mreturn\u001b[39;00m forward_call(\u001b[39m*\u001b[39;49margs, \u001b[39m*\u001b[39;49m\u001b[39m*\u001b[39;49mkwargs)\n\u001b[1;32m   1502\u001b[0m \u001b[39m# Do not call functions when jit is used\u001b[39;00m\n\u001b[1;32m   1503\u001b[0m full_backward_hooks, non_full_backward_hooks \u001b[39m=\u001b[39m [], []\n",
      "\u001b[0;31mTypeError\u001b[0m: NanoBERT.forward() missing 1 required positional argument: 'nan_mask'"
     ]
    }
   ],
   "source": [
    "# single prediction\n",
    "seq_len = 100\n",
    "batch_size = 1\n",
    "x = torch.Tensor(np.zeros((batch_size, seq_len)))\n",
    "\n",
    "llm = NanoBERT(dropout=0, n_embed=10)  # max_seq_len=seq_len)\n",
    "\n",
    "out = llm(x)\n",
    "print('shapes', x.shape, out.shape)"
   ]
  },
  {
   "cell_type": "code",
   "execution_count": 92,
   "metadata": {},
   "outputs": [
    {
     "name": "stdout",
     "output_type": "stream",
     "text": [
      "0 -- Train loss 0.0173\n",
      "1 -- Train loss 0.0158\n",
      "2 -- Train loss 0.0157\n",
      "3 -- Train loss 0.0157\n",
      "4 -- Train loss 0.0157\n",
      "5 -- Train loss 0.0156\n",
      "6 -- Train loss 0.0155\n",
      "7 -- Train loss 0.0159\n",
      "8 -- Train loss 0.0157\n",
      "9 -- Train loss 0.0155\n",
      "10 -- Train loss 0.0157\n",
      "11 -- Train loss 0.0155\n",
      "12 -- Train loss 0.0158\n",
      "13 -- Train loss 0.0157\n",
      "14 -- Train loss 0.0159\n",
      "15 -- Train loss 0.0157\n",
      "16 -- Train loss 0.0158\n",
      "17 -- Train loss 0.0153\n",
      "18 -- Train loss 0.0155\n",
      "19 -- Train loss 0.0158\n",
      "20 -- Train loss 0.0153\n",
      "21 -- Train loss 0.0158\n",
      "22 -- Train loss 0.0158\n",
      "23 -- Train loss 0.0158\n",
      "24 -- Train loss 0.0155\n"
     ]
    }
   ],
   "source": [
    "# training arguments\n",
    "device = 'cuda'\n",
    "num_epochs = 100\n",
    "lr = 1e-3\n",
    "batch_size = 128\n",
    "n_embed = 10\n",
    "dropout = 0\n",
    "\n",
    "# data arguments a dataloader\n",
    "n_rows = 8\n",
    "n_columns = 10\n",
    "rank = 3\n",
    "frac_nan_mask = 0.1\n",
    "seed = 13\n",
    "n_matrices = 2048\n",
    "\n",
    "llm = NanoBERT(n_embed=n_embed, n_layers=3, n_heads=3,\n",
    "               dropout=dropout, n_rows=n_rows, n_columns=n_columns).to(\n",
    "    device)  # max_seq_len=seq_len)\n",
    "\n",
    "dataset = LowRankDataset(n_rows, n_columns, rank, frac_nan_mask,\n",
    "                         seed=seed, length=n_matrices)\n",
    "\n",
    "\n",
    "llm = llm.to(device)\n",
    "optimizer = torch.optim.Adam(llm.parameters(), lr=lr)\n",
    "dataloader = data.DataLoader(dataset, batch_size=batch_size, shuffle=True)\n",
    "llm.train()\n",
    "for i in range(num_epochs):\n",
    "    # print(f'Epoch: {i + 1}')\n",
    "    train_loss = 0.0\n",
    "    train_preds = []\n",
    "    train_labels = []\n",
    "\n",
    "    llm.train()\n",
    "\n",
    "    for batch_num, (x_nan_t, x_clean_t, nan_mask_t) in enumerate(dataloader):\n",
    "        x_nan_t = x_nan_t.to(device)\n",
    "        x_clean_t = x_clean_t.to(device)\n",
    "        nan_mask_t = nan_mask_t.to(device)\n",
    "        # print('shapes', x_t_nan.shape, x_t_clean.shape, nan_mask_t.shape)\n",
    "\n",
    "        pred = llm(x_nan_t, nan_mask_t)\n",
    "        nan_loss = F.mse_loss(\n",
    "            x_clean_t[nan_mask_t.bool()], pred[nan_mask_t.bool()])\n",
    "\n",
    "        optimizer.zero_grad()\n",
    "        nan_loss.backward()\n",
    "        optimizer.step()\n",
    "\n",
    "        train_loss += nan_loss.item() / nan_mask_t.sum().item()\n",
    "\n",
    "        # if batch_num % 10 == 0:\n",
    "        # print(f'Batch: {batch_num}, Loss: {loss.item():0.3f}')\n",
    "\n",
    "    print(f'{i} -- Train loss {train_loss:0.4f}')"
   ]
  }
 ],
 "metadata": {
  "kernelspec": {
   "display_name": ".venv",
   "language": "python",
   "name": "python3"
  },
  "language_info": {
   "codemirror_mode": {
    "name": "ipython",
    "version": 3
   },
   "file_extension": ".py",
   "mimetype": "text/x-python",
   "name": "python",
   "nbconvert_exporter": "python",
   "pygments_lexer": "ipython3",
   "version": "3.11.5"
  }
 },
 "nbformat": 4,
 "nbformat_minor": 2
}
